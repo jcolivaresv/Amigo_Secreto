{
 "cells": [
  {
   "cell_type": "markdown",
   "metadata": {},
   "source": [
    "# Amigo Secreto!\n",
    "\n",
    "Este notebook sirve para jugar al amigo secreto. Iré explicando paso a paso como se debe usar."
   ]
  },
  {
   "cell_type": "markdown",
   "metadata": {},
   "source": [
    "### Paso 1\n",
    "Primero, importar las librerías requeridas"
   ]
  },
  {
   "cell_type": "code",
   "execution_count": null,
   "metadata": {},
   "outputs": [],
   "source": [
    "import pandas as pd\n",
    "import smtplib\n",
    "import random"
   ]
  },
  {
   "cell_type": "markdown",
   "metadata": {},
   "source": [
    "### Paso 2\n",
    "Se lee el archivo csv donde estan los integrantes que van a jugar. El archivo se debe crear de la siguiente forma: en la primera linea, va el encabezado, en este caso \"nombre\" y \"correo\", separados por una coma. A partir de la segunda linea se ponen los datos requeridos, separados por una coma."
   ]
  },
  {
   "cell_type": "code",
   "execution_count": null,
   "metadata": {},
   "outputs": [],
   "source": [
    "# creating the members Data Frame\n",
    "df_amigos=pd.read_csv(\"integrantes.csv\")\n",
    "df_amigos"
   ]
  },
  {
   "cell_type": "markdown",
   "metadata": {},
   "source": [
    "### Paso 3\n",
    "Una vez creado el data frame, se sacan los nombres en una lista aparte y se reordenan cuantas veces sea necesario para asegurar que a la persona no le toque él mismo."
   ]
  },
  {
   "cell_type": "code",
   "execution_count": null,
   "metadata": {},
   "outputs": [],
   "source": [
    "# tomando los nombres y desordenando la lista\n",
    "amigos=df_amigos['nombre'].tolist()\n",
    "random.shuffle(amigos)\n",
    "\n",
    "# chequeando que son todos distintos, sino, revolviendo de nuevo la lista\n",
    "for i in df_amigos.index:\n",
    "    if df_amigos.iloc[i]['nombre'] != amigos[i]:\n",
    "        pass\n",
    "    else:\n",
    "        print(\"hay dos iguales, shuffling...\")\n",
    "        random.shuffle(amigos)\n",
    "        i=0\n",
    "print(\"son todos distintos!\")\n",
    "#print(amigos)"
   ]
  },
  {
   "cell_type": "markdown",
   "metadata": {},
   "source": [
    "### Paso 4\n",
    "se agrega la columna \"amigo\" al data frame, con el nombre del amigo asignado."
   ]
  },
  {
   "cell_type": "code",
   "execution_count": null,
   "metadata": {},
   "outputs": [],
   "source": [
    "df_amigos['amigo'] = amigos\n",
    "#df_amigos"
   ]
  },
  {
   "cell_type": "markdown",
   "metadata": {},
   "source": [
    "### Paso opcional!\n",
    "en nuestro caso, ademas de jugar nosotros al amigo secreto asignamos un niño por representante: es decir, los niños reciben regalo pero no juegan. Escogimos 5 representantes de la lista, porque en nuestro caso eran 5 niños."
   ]
  },
  {
   "cell_type": "code",
   "execution_count": null,
   "metadata": {},
   "outputs": [],
   "source": [
    "# creando el df de representantes\n",
    "df_representantes=df_amigos.copy()\n",
    "df_representantes.drop('amigo', axis=1, inplace=True)\n",
    "df_representantes.drop(df_representantes.index[[1,3,5,8]],inplace=True)\n",
    "df_representantes.reset_index(inplace=True,drop=True)\n",
    "df_representantes"
   ]
  },
  {
   "cell_type": "code",
   "execution_count": null,
   "metadata": {},
   "outputs": [],
   "source": [
    "# creando la lista de niños\n",
    "ninos=['Rafa','Dani','Sofi','Nona','Papo']\n",
    "random.shuffle(ninos)\n",
    "df_representantes['nino']=ninos\n",
    "#df_representantes"
   ]
  },
  {
   "cell_type": "markdown",
   "metadata": {},
   "source": [
    "### Paso Final!\n",
    "enviar el correo. Pueden agregar el texto que quieran, solo no se olviden de rellenar correctamente las variables \"sender_address\" y \"account_password\"."
   ]
  },
  {
   "cell_type": "code",
   "execution_count": null,
   "metadata": {},
   "outputs": [],
   "source": [
    "sender_address = \"cuenta@correo.com\" # Replace this with your Gmail address\n",
    "account_password = \"123456\" # Replace this with your Gmail account password"
   ]
  },
 
  {
   "cell_type": "code",
   "execution_count": null,
   "metadata": {},
   "outputs": [],
   "source": [
    "smtp_server = smtplib.SMTP_SSL(\"smtp.gmail.com\", 465)\n",
    "smtp_server.login(sender_address, account_password)\n",
    "\n",
    "# Mail del amigo secreto\n",
    "for i in df_amigos.index:\n",
    "    subject = \"Tu amigo secreto es...\"\n",
    "    receiver_address=str(df_amigos.iloc[i][1])\n",
    "    #print(receiver_address)\n",
    "    body= \"Hola \"+df_amigos.iloc[i]['nombre']+\"!\\n\\nTu amigo secreto asignado es \"+str(df_amigos.iloc[i]['amigo'])+\".\\n\\nNo olvides comprarle algo lindo!\\n\\nAtentamente\\nDr. Krampus\"\n",
    "    message = f\"Subject: {subject}\\n\\n{body}\"\n",
    "    #print(message)\n",
    "    smtp_server.sendmail(sender_address, receiver_address, message)\n",
    "    \n",
    "smtp_server.close()"
   ]
  },
  {
   "cell_type": "code",
   "execution_count": null,
   "metadata": {},
   "outputs": [],
   "source": [
    "smtp_server = smtplib.SMTP_SSL(\"smtp.gmail.com\", 465)\n",
    "smtp_server.login(sender_address, account_password)\n",
    "\n",
    "for j in df_representantes.index:\n",
    "    subject=\"La Navidad es de los enanos!\"\n",
    "    receiver_address=str(df_representantes.iloc[j][1])\n",
    "    #print(receiver_address)\n",
    "    body= \"Hola \"+df_representantes.iloc[j]['nombre']+\"!\\n\\nA los mas chicos de la familia se les regala algo extra! Debes regalarle algo a \"+str(df_representantes.iloc[j][2])+\".\\n\\nA menos que se haya portado mal. En tal caso me avisas...\\n\\nAtentamente:\\nDr. Krampus\"\n",
    "    message = f\"Subject: {subject}\\n\\n{body}\"\n",
    "    #print(message)\n",
    "    smtp_server.sendmail(sender_address, receiver_address, message)\n",
    "    \n",
    "smtp_server.close()"
   ]
  },
  {
   "cell_type": "markdown",
   "metadata": {},
   "source": [
    "Eso es todo. Ojalá les sirva para jugar al amigo secreto. Saludos!"
   ]
  },
  {
   "cell_type": "code",
   "execution_count": null,
   "metadata": {},
   "outputs": [],
   "source": []
  }
 ],
 "metadata": {
  "kernelspec": {
   "display_name": "Python 3",
   "language": "python",
   "name": "python3"
  },
  "language_info": {
   "codemirror_mode": {
    "name": "ipython",
    "version": 3
   },
   "file_extension": ".py",
   "mimetype": "text/x-python",
   "name": "python",
   "nbconvert_exporter": "python",
   "pygments_lexer": "ipython3",
   "version": "3.7.6"
  }
 },
 "nbformat": 4,
 "nbformat_minor": 4
}
